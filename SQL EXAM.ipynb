{
 "cells": [
  {
   "cell_type": "code",
   "execution_count": 56,
   "id": "b29d5d69",
   "metadata": {},
   "outputs": [],
   "source": [
    "import psycopg2\n",
    "from psycopg2 import Error\n",
    "from psycopg2.extras import NamedTupleCursor\n",
    "from psycopg2.extensions import ISOLATION_LEVEL_AUTOCOMMIT"
   ]
  },
  {
   "cell_type": "code",
   "execution_count": 57,
   "id": "a0132e0c",
   "metadata": {},
   "outputs": [],
   "source": [
    "def create_connection(db_name, db_user, db_password, db_host, db_port):\n",
    "    connection = None\n",
    "    try:\n",
    "        connection = psycopg2.connect(\n",
    "            database=db_name,\n",
    "            user=db_user,\n",
    "            password=db_password,\n",
    "            host=db_host,\n",
    "            port=db_port\n",
    "        )\n",
    "        print(\"Connection to PostgreSQL DB successful\")\n",
    "    except Error as e:\n",
    "        print(f\"The error '{e}' occurred\")\n",
    "    return connection\n",
    "\n",
    "def execute_query(connection, query, fetch_result=False):\n",
    "    cursor = connection.cursor(cursor_factory=NamedTupleCursor)\n",
    "    cursor.execute(query)\n",
    "    connection.commit()\n",
    "    if fetch_result:\n",
    "        return cursor.fetchall()\n",
    "\n",
    "\n",
    "def execute_queries(db, sql_commands):\n",
    "    db.autocommit = True\n",
    "    with db.cursor() as cursor:\n",
    "        for sql_command in sql_commands:\n",
    "            cursor.execute(sql_command)"
   ]
  },
  {
   "cell_type": "code",
   "execution_count": 58,
   "id": "a2bb4030",
   "metadata": {},
   "outputs": [
    {
     "name": "stdout",
     "output_type": "stream",
     "text": [
      "Connection to PostgreSQL DB successful\n"
     ]
    }
   ],
   "source": [
    "db = create_connection(\"shopdb\", \"postgres\", \"94Q2%WRJ61\", \"localhost\", \"5432\")"
   ]
  },
  {
   "cell_type": "code",
   "execution_count": 81,
   "id": "ca2f5505",
   "metadata": {},
   "outputs": [],
   "source": [
    "creating_tables = [\n",
    "\"DROP TABLE IF EXISTS instrument;\",\n",
    "\"DROP TABLE IF EXISTS status;\",\n",
    "\"DROP TABLE IF EXISTS location;\",\n",
    "\"DROP TABLE IF EXISTS material;\",\n",
    "\"DROP TABLE IF EXISTS guitar;\",\n",
    "\"DROP TABLE IF EXISTS keyboard;\",\n",
    "\"DROP TABLE IF EXISTS drum;\",\n",
    "\"DROP TABLE IF EXISTS shape;\",\n",
    "\"DROP TABLE IF EXISTS manufacturer;\",\n",
    "\"DROP TABLE IF EXISTS employees;\",\n",
    "\"DROP TABLE IF EXISTS order_history;\",\n",
    "\"DROP TABLE IF EXISTS orders_instruments;\",\n",
    "\"\"\"CREATE TABLE instrument(\n",
    "\"id\" SERIAL PRIMARY KEY,\n",
    "\"instr_type\" INT NOT NULL,\n",
    "\"manufacturer\" INT NOT NULL,\n",
    "\"material\" INT NOT NULL,\n",
    "\"location\" INT NOT NULL,\n",
    "\"status\" INT NOT NULL,\n",
    "\"price\" INT NOT NULL\n",
    ");\n",
    "\"\"\",\n",
    "\"\"\"CREATE TABLE status(\n",
    "\t\"status_id\" INT NOT NULL,\n",
    "\t\"status_name\" TEXT NOT NULL\n",
    "    );\n",
    "\"\"\",\n",
    "\"\"\"CREATE TABLE location(\n",
    "\t\"location_id\" INT NOT NULL,\n",
    "\t\"address\" TEXT NOT NULL\n",
    "    );\n",
    "\"\"\",\n",
    "\"\"\"CREATE TABLE material(\n",
    "\t\"material_id\" INT NOT NULL,\n",
    "\t\"material_name\" TEXT NOT NULL\n",
    "    );\n",
    "\"\"\",\n",
    "\"\"\"CREATE TABLE guitar(\n",
    "\t\"id\" INT NOT NULL,\n",
    "\t\"string_num\" INT NOT NULL,\n",
    "\t\"fret_num\" INT NOT NULL,\n",
    "\t\"floyd_rose\" boolean NOT NULL,\n",
    "\t\"shape\" INT NOT NULL\n",
    "    );\n",
    "\"\"\",\n",
    "\"\"\"CREATE TABLE shape(\n",
    "\t\"shape_id\" INT NOT NULL,\n",
    "\t\"shape_name\" TEXT NOT NULL\n",
    "    );\n",
    "\"\"\",\n",
    "\"\"\"CREATE TABLE keyboard(\n",
    "\t\"id\" INT NOT NULL,\n",
    "\t\"keynum\" INT NOT NULL,\n",
    "\t\"is_synth\" boolean NOT NULL\n",
    "    );\n",
    "\"\"\",\n",
    "\"\"\"CREATE TABLE drum(\n",
    "\t\"id\" INT NOT NULL,\n",
    "\t\"diameter\" INT NOT NULL\n",
    "    );\n",
    "\"\"\",\n",
    "\"\"\"CREATE TABLE employees(\n",
    "\t\"employee_id\" INT NOT NULL,\n",
    "\t\"employee_name\" TEXT NOT NULL\n",
    "    );\n",
    "\"\"\",\n",
    "\"\"\"CREATE TABLE order_history(\n",
    "\t\"order_id\" INT NOT NULL,\n",
    "\t\"date\" DATE NOT NULL,\n",
    "\t\"location_id\" INT NOT NULL,\n",
    "\t\"cashier_id\" INT NOT NULL\n",
    "    );\n",
    "\"\"\",\n",
    "\"\"\"CREATE TABLE manufacturer(\n",
    "\t\"manufacturer_id\" INT NOT NULL,\n",
    "\t\"manufacturer_name\" VARCHAR(255) NOT NULL\n",
    "    );\n",
    "\"\"\",\n",
    "\"\"\"CREATE TABLE orders_instruments(\n",
    "\t\"order_id\" BIGINT NOT NULL,\n",
    "\t\"instrument_id\" INT NOT NULL\n",
    "    );\n",
    "\"\"\"]\n",
    "execute_queries(db, creating_tables)"
   ]
  },
  {
   "cell_type": "code",
   "execution_count": 82,
   "id": "200f0363",
   "metadata": {},
   "outputs": [],
   "source": [
    "filling_static_tables = [\n",
    "    \"\"\" INSERT INTO public.location (location_id, address)\n",
    "    VALUES\n",
    "        (1, 'Moscow'),\n",
    "        (2, 'St. Petersburg'),\n",
    "        (3, 'Kazan')\n",
    "        \"\"\",\n",
    "    \"\"\"INSERT INTO public.status (status_id, status_name)\n",
    "    VALUES\n",
    "        (1, 'in stock'),\n",
    "        (2, 'in shop'),\n",
    "        (3, 'booked')\n",
    "        \"\"\",\n",
    "    \"\"\"INSERT INTO public.material (material_id, material_name)\n",
    "        VALUES\n",
    "            (1, 'plastic'),\n",
    "            (2, 'wood'),\n",
    "            (3, 'carbon'),\n",
    "            (4, 'metal')\n",
    "            \"\"\",\n",
    "    \"\"\"INSERT INTO public.manufacturer (manufacturer_id, manufacturer_name)\n",
    "        VALUES\n",
    "            (1, 'Gibson'),\n",
    "            (2, 'Yamaha'),\n",
    "            (3, 'Fender'),\n",
    "            (4, 'Remo')\n",
    "            \"\"\",\n",
    "    \"\"\"INSERT INTO public.shape (shape_id, shape_name)\n",
    "        VALUES\n",
    "            (1, 'Telecaster'),\n",
    "            (2, 'Stratocaster'),\n",
    "            (3, 'Explorer'),\n",
    "            (4, 'Flying V')\n",
    "            \"\"\",\n",
    "    \"\"\"INSERT INTO public.employees (employee_id, employee_name)\n",
    "        VALUES\n",
    "            (1, 'Mark'),\n",
    "            (2, 'Egor'),\n",
    "            (3, 'Irina')\n",
    "            \"\"\"]\n",
    "execute_queries(db, filling_static_tables)"
   ]
  },
  {
   "cell_type": "code",
   "execution_count": 83,
   "id": "9044a9ac",
   "metadata": {},
   "outputs": [],
   "source": [
    "filling_dynamic_tables = [\n",
    "    \"\"\"INSERT INTO public.instrument (instr_type, manufacturer, material, location, status, price)\n",
    "        VALUES\n",
    "            (1, 1, 2, 1, 1, 10000),\n",
    "            (1, 2, 2, 2, 1, 15000),\n",
    "            (1, 2, 2, 2, 2, 15500),\n",
    "            (1, 2, 2, 3, 1, 23000),\n",
    "            (1, 1, 2, 1, 1, 50000),\n",
    "            (2, 3, 1, 1, 1, 6000),\n",
    "            (2, 3, 2, 2, 2, 80000),\n",
    "            (2, 3, 1, 1, 1, 11000),\n",
    "            (2, 2, 1, 3, 2, 12990),\n",
    "            (3, 4, 2, 3, 2, 8000),\n",
    "            (3, 4, 3, 1, 2, 4000),\n",
    "            (3, 4, 3, 1, 2, 4500)\n",
    "    \"\"\",\n",
    "    \"\"\"INSERT INTO guitar (id, string_num, fret_num, floyd_rose, shape)\n",
    "        VALUES\n",
    "            (1, 6, 21, false, 1),\n",
    "            (2, 6, 21, false, 2),\n",
    "            (3, 6, 22, true, 1),\n",
    "            (4, 6, 21, true, 3),\n",
    "            (5, 7, 22, false, 2)\n",
    "    \"\"\",\n",
    "    \"\"\"INSERT INTO keyboard (id, keynum, is_synth)\n",
    "        VALUES\n",
    "            (6, 52, true),\n",
    "            (7, 108, false),\n",
    "            (8, 64, true),\n",
    "            (9, 64, false)\n",
    "    \"\"\",\n",
    "    \"\"\"INSERT INTO drum (id, diameter)\n",
    "            VALUES\n",
    "                (10, 32),\n",
    "                (11, 30),\n",
    "                (12, 30)\n",
    "        \"\"\"]\n",
    "execute_queries(db, filling_dynamic_tables)"
   ]
  },
  {
   "cell_type": "markdown",
   "id": "ab6a3940",
   "metadata": {},
   "source": [
    "Шаблон кода запроса:\n",
    "\n",
    "request_X = \"\"\" \"\"\"\n",
    "result = execute_query(db, request_X, fetch_result=True)\n",
    "for row, value in enumerate(result):\n",
    "    print(row, value)"
   ]
  },
  {
   "cell_type": "code",
   "execution_count": 100,
   "id": "eb1212ef",
   "metadata": {},
   "outputs": [
    {
     "name": "stdout",
     "output_type": "stream",
     "text": [
      "0 Record(id=4, floyd_rose=True, string_num=6)\n"
     ]
    }
   ],
   "source": [
    "request_1 = \"\"\"SELECT id, floyd_rose, string_num \n",
    "FROM guitar JOIN shape ON guitar.shape = shape.shape_id\n",
    "WHERE shape_name = 'Explorer'\"\"\"\n",
    "result = execute_query(db, request_1, fetch_result=True)\n",
    "for row, value in enumerate(result):\n",
    "    print(row, value)"
   ]
  },
  {
   "cell_type": "code",
   "execution_count": 103,
   "id": "2cefce40",
   "metadata": {},
   "outputs": [
    {
     "name": "stdout",
     "output_type": "stream",
     "text": [
      "0 Record(manufacturer_name='Remo', price=8000)\n",
      "1 Record(manufacturer_name='Remo', price=4000)\n",
      "2 Record(manufacturer_name='Remo', price=4500)\n"
     ]
    }
   ],
   "source": [
    "request_2 = \"\"\"SELECT manufacturer_name, price\n",
    "FROM instrument i JOIN drum ON i.id = drum.id JOIN manufacturer ON i.manufacturer = manufacturer_id\n",
    "WHERE price < 10000\"\"\"\n",
    "result = execute_query(db, request_2, fetch_result=True)\n",
    "for row, value in enumerate(result):\n",
    "    print(row, value)"
   ]
  },
  {
   "cell_type": "code",
   "execution_count": 110,
   "id": "b00fdb93",
   "metadata": {},
   "outputs": [
    {
     "name": "stdout",
     "output_type": "stream",
     "text": [
      "0 Record(address='Moscow')\n",
      "1 Record(address='Kazan')\n"
     ]
    }
   ],
   "source": [
    "request_3 = \"\"\"SELECT address FROM location\n",
    "WHERE address NOT LIKE '% %'\"\"\"\n",
    "result = execute_query(db, request_3, fetch_result=True)\n",
    "for row, value in enumerate(result):\n",
    "    print(row, value)"
   ]
  },
  {
   "cell_type": "code",
   "execution_count": 150,
   "id": "01e1034d",
   "metadata": {},
   "outputs": [
    {
     "ename": "SyntaxError",
     "evalue": "ОШИБКА:  ошибка синтаксиса (примерное положение: \"from\")\nLINE 2: select count(* from keyboard where is_synth = true) as a, co...\n                       ^\n",
     "output_type": "error",
     "traceback": [
      "\u001b[1;31m---------------------------------------------------------------------------\u001b[0m",
      "\u001b[1;31mSyntaxError\u001b[0m                               Traceback (most recent call last)",
      "\u001b[1;32m<ipython-input-150-9f664d6e40a2>\u001b[0m in \u001b[0;36m<module>\u001b[1;34m\u001b[0m\n\u001b[0;32m      3\u001b[0m ) as n\n\u001b[0;32m      4\u001b[0m \"\"\"\n\u001b[1;32m----> 5\u001b[1;33m \u001b[0mresult\u001b[0m \u001b[1;33m=\u001b[0m \u001b[0mexecute_query\u001b[0m\u001b[1;33m(\u001b[0m\u001b[0mdb\u001b[0m\u001b[1;33m,\u001b[0m \u001b[0mrequest_4\u001b[0m\u001b[1;33m,\u001b[0m \u001b[0mfetch_result\u001b[0m\u001b[1;33m=\u001b[0m\u001b[1;32mTrue\u001b[0m\u001b[1;33m)\u001b[0m\u001b[1;33m\u001b[0m\u001b[1;33m\u001b[0m\u001b[0m\n\u001b[0m\u001b[0;32m      6\u001b[0m \u001b[1;32mfor\u001b[0m \u001b[0mrow\u001b[0m\u001b[1;33m,\u001b[0m \u001b[0mvalue\u001b[0m \u001b[1;32min\u001b[0m \u001b[0menumerate\u001b[0m\u001b[1;33m(\u001b[0m\u001b[0mresult\u001b[0m\u001b[1;33m)\u001b[0m\u001b[1;33m:\u001b[0m\u001b[1;33m\u001b[0m\u001b[1;33m\u001b[0m\u001b[0m\n\u001b[0;32m      7\u001b[0m     \u001b[0mprint\u001b[0m\u001b[1;33m(\u001b[0m\u001b[0mrow\u001b[0m\u001b[1;33m,\u001b[0m \u001b[0mvalue\u001b[0m\u001b[1;33m)\u001b[0m\u001b[1;33m\u001b[0m\u001b[1;33m\u001b[0m\u001b[0m\n",
      "\u001b[1;32m<ipython-input-57-736a25f215f0>\u001b[0m in \u001b[0;36mexecute_query\u001b[1;34m(connection, query, fetch_result)\u001b[0m\n\u001b[0;32m     16\u001b[0m \u001b[1;32mdef\u001b[0m \u001b[0mexecute_query\u001b[0m\u001b[1;33m(\u001b[0m\u001b[0mconnection\u001b[0m\u001b[1;33m,\u001b[0m \u001b[0mquery\u001b[0m\u001b[1;33m,\u001b[0m \u001b[0mfetch_result\u001b[0m\u001b[1;33m=\u001b[0m\u001b[1;32mFalse\u001b[0m\u001b[1;33m)\u001b[0m\u001b[1;33m:\u001b[0m\u001b[1;33m\u001b[0m\u001b[1;33m\u001b[0m\u001b[0m\n\u001b[0;32m     17\u001b[0m     \u001b[0mcursor\u001b[0m \u001b[1;33m=\u001b[0m \u001b[0mconnection\u001b[0m\u001b[1;33m.\u001b[0m\u001b[0mcursor\u001b[0m\u001b[1;33m(\u001b[0m\u001b[0mcursor_factory\u001b[0m\u001b[1;33m=\u001b[0m\u001b[0mNamedTupleCursor\u001b[0m\u001b[1;33m)\u001b[0m\u001b[1;33m\u001b[0m\u001b[1;33m\u001b[0m\u001b[0m\n\u001b[1;32m---> 18\u001b[1;33m     \u001b[0mcursor\u001b[0m\u001b[1;33m.\u001b[0m\u001b[0mexecute\u001b[0m\u001b[1;33m(\u001b[0m\u001b[0mquery\u001b[0m\u001b[1;33m)\u001b[0m\u001b[1;33m\u001b[0m\u001b[1;33m\u001b[0m\u001b[0m\n\u001b[0m\u001b[0;32m     19\u001b[0m     \u001b[0mconnection\u001b[0m\u001b[1;33m.\u001b[0m\u001b[0mcommit\u001b[0m\u001b[1;33m(\u001b[0m\u001b[1;33m)\u001b[0m\u001b[1;33m\u001b[0m\u001b[1;33m\u001b[0m\u001b[0m\n\u001b[0;32m     20\u001b[0m     \u001b[1;32mif\u001b[0m \u001b[0mfetch_result\u001b[0m\u001b[1;33m:\u001b[0m\u001b[1;33m\u001b[0m\u001b[1;33m\u001b[0m\u001b[0m\n",
      "\u001b[1;32mC:\\Anaconda3\\lib\\site-packages\\psycopg2\\extras.py\u001b[0m in \u001b[0;36mexecute\u001b[1;34m(self, query, vars)\u001b[0m\n\u001b[0;32m    310\u001b[0m     \u001b[1;32mdef\u001b[0m \u001b[0mexecute\u001b[0m\u001b[1;33m(\u001b[0m\u001b[0mself\u001b[0m\u001b[1;33m,\u001b[0m \u001b[0mquery\u001b[0m\u001b[1;33m,\u001b[0m \u001b[0mvars\u001b[0m\u001b[1;33m=\u001b[0m\u001b[1;32mNone\u001b[0m\u001b[1;33m)\u001b[0m\u001b[1;33m:\u001b[0m\u001b[1;33m\u001b[0m\u001b[1;33m\u001b[0m\u001b[0m\n\u001b[0;32m    311\u001b[0m         \u001b[0mself\u001b[0m\u001b[1;33m.\u001b[0m\u001b[0mRecord\u001b[0m \u001b[1;33m=\u001b[0m \u001b[1;32mNone\u001b[0m\u001b[1;33m\u001b[0m\u001b[1;33m\u001b[0m\u001b[0m\n\u001b[1;32m--> 312\u001b[1;33m         \u001b[1;32mreturn\u001b[0m \u001b[0msuper\u001b[0m\u001b[1;33m(\u001b[0m\u001b[1;33m)\u001b[0m\u001b[1;33m.\u001b[0m\u001b[0mexecute\u001b[0m\u001b[1;33m(\u001b[0m\u001b[0mquery\u001b[0m\u001b[1;33m,\u001b[0m \u001b[0mvars\u001b[0m\u001b[1;33m)\u001b[0m\u001b[1;33m\u001b[0m\u001b[1;33m\u001b[0m\u001b[0m\n\u001b[0m\u001b[0;32m    313\u001b[0m \u001b[1;33m\u001b[0m\u001b[0m\n\u001b[0;32m    314\u001b[0m     \u001b[1;32mdef\u001b[0m \u001b[0mexecutemany\u001b[0m\u001b[1;33m(\u001b[0m\u001b[0mself\u001b[0m\u001b[1;33m,\u001b[0m \u001b[0mquery\u001b[0m\u001b[1;33m,\u001b[0m \u001b[0mvars\u001b[0m\u001b[1;33m)\u001b[0m\u001b[1;33m:\u001b[0m\u001b[1;33m\u001b[0m\u001b[1;33m\u001b[0m\u001b[0m\n",
      "\u001b[1;31mSyntaxError\u001b[0m: ОШИБКА:  ошибка синтаксиса (примерное положение: \"from\")\nLINE 2: select count(* from keyboard where is_synth = true) as a, co...\n                       ^\n"
     ]
    }
   ],
   "source": [
    "request_4 = \"\"\"select sum(a)/sum(b) from(\n",
    "select count(* from keyboard where is_synth = true) as a, count(* from keyboard where is_synth = false) as b from keyboard\n",
    ") as n\n",
    "\"\"\"\n",
    "result = execute_query(db, request_4, fetch_result=True)\n",
    "for row, value in enumerate(result):\n",
    "    print(row, value)"
   ]
  },
  {
   "cell_type": "code",
   "execution_count": null,
   "id": "91d78fcd",
   "metadata": {},
   "outputs": [],
   "source": [
    "select sum(a)/sum(b)"
   ]
  }
 ],
 "metadata": {
  "kernelspec": {
   "display_name": "Python 3",
   "language": "python",
   "name": "python3"
  },
  "language_info": {
   "codemirror_mode": {
    "name": "ipython",
    "version": 3
   },
   "file_extension": ".py",
   "mimetype": "text/x-python",
   "name": "python",
   "nbconvert_exporter": "python",
   "pygments_lexer": "ipython3",
   "version": "3.8.8"
  }
 },
 "nbformat": 4,
 "nbformat_minor": 5
}

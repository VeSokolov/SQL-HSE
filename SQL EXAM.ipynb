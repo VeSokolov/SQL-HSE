{
 "cells": [
  {
   "cell_type": "code",
   "execution_count": 1,
   "id": "b29d5d69",
   "metadata": {},
   "outputs": [],
   "source": [
    "import psycopg2\n",
    "from psycopg2 import Error\n",
    "from psycopg2.extras import NamedTupleCursor\n",
    "from psycopg2.extensions import ISOLATION_LEVEL_AUTOCOMMIT"
   ]
  },
  {
   "cell_type": "code",
   "execution_count": 2,
   "id": "a0132e0c",
   "metadata": {},
   "outputs": [],
   "source": [
    "def create_connection(db_name, db_user, db_password, db_host, db_port):\n",
    "    connection = None\n",
    "    try:\n",
    "        connection = psycopg2.connect(\n",
    "            database=db_name,\n",
    "            user=db_user,\n",
    "            password=db_password,\n",
    "            host=db_host,\n",
    "            port=db_port\n",
    "        )\n",
    "        print(\"Connection to PostgreSQL DB successful\")\n",
    "    except Error as e:\n",
    "        print(f\"The error '{e}' occurred\")\n",
    "    return connection\n",
    "\n",
    "def execute_query(connection, query, fetch_result=False):\n",
    "    cursor = connection.cursor(cursor_factory=NamedTupleCursor)\n",
    "    cursor.execute(query)\n",
    "    connection.commit()\n",
    "    if fetch_result:\n",
    "        return cursor.fetchall()\n",
    "\n",
    "\n",
    "def execute_queries(db, sql_commands):\n",
    "    db.autocommit = True\n",
    "    with db.cursor() as cursor:\n",
    "        for sql_command in sql_commands:\n",
    "            cursor.execute(sql_command)"
   ]
  },
  {
   "cell_type": "code",
   "execution_count": 3,
   "id": "a2bb4030",
   "metadata": {},
   "outputs": [
    {
     "name": "stdout",
     "output_type": "stream",
     "text": [
      "Connection to PostgreSQL DB successful\n"
     ]
    }
   ],
   "source": [
    "db = create_connection(\"shopdb\", \"postgres\", \"94Q2%WRJ61\", \"localhost\", \"5432\")"
   ]
  },
  {
   "cell_type": "code",
   "execution_count": 4,
   "id": "ca2f5505",
   "metadata": {},
   "outputs": [],
   "source": [
    "creating_tables = [\n",
    "\"DROP TABLE IF EXISTS instrument;\",\n",
    "\"DROP TABLE IF EXISTS status;\",\n",
    "\"DROP TABLE IF EXISTS location;\",\n",
    "\"DROP TABLE IF EXISTS material;\",\n",
    "\"DROP TABLE IF EXISTS guitar;\",\n",
    "\"DROP TABLE IF EXISTS keyboard;\",\n",
    "\"DROP TABLE IF EXISTS drum;\",\n",
    "\"DROP TABLE IF EXISTS shape;\",\n",
    "\"DROP TABLE IF EXISTS manufacturer;\",\n",
    "\"DROP TABLE IF EXISTS employees;\",\n",
    "\"DROP TABLE IF EXISTS order_history;\",\n",
    "\"DROP TABLE IF EXISTS orders_instruments;\",\n",
    "\"\"\"CREATE TABLE instrument(\n",
    "\"id\" SERIAL PRIMARY KEY,\n",
    "\"instr_type\" INT NOT NULL,\n",
    "\"manufacturer\" INT NOT NULL,\n",
    "\"material\" INT NOT NULL,\n",
    "\"location\" INT NOT NULL,\n",
    "\"status\" INT NOT NULL,\n",
    "\"price\" INT NOT NULL\n",
    ");\n",
    "\"\"\",\n",
    "\"\"\"CREATE TABLE status(\n",
    "\t\"status_id\" INT NOT NULL,\n",
    "\t\"status_name\" TEXT NOT NULL\n",
    "    );\n",
    "\"\"\",\n",
    "\"\"\"CREATE TABLE location(\n",
    "\t\"location_id\" INT NOT NULL,\n",
    "\t\"address\" TEXT NOT NULL\n",
    "    );\n",
    "\"\"\",\n",
    "\"\"\"CREATE TABLE material(\n",
    "\t\"material_id\" INT NOT NULL,\n",
    "\t\"material_name\" TEXT NOT NULL\n",
    "    );\n",
    "\"\"\",\n",
    "\"\"\"CREATE TABLE guitar(\n",
    "\t\"id\" INT NOT NULL,\n",
    "\t\"string_num\" INT NOT NULL,\n",
    "\t\"fret_num\" INT NOT NULL,\n",
    "\t\"floyd_rose\" boolean NOT NULL,\n",
    "\t\"shape\" INT NOT NULL\n",
    "    );\n",
    "\"\"\",\n",
    "\"\"\"CREATE TABLE shape(\n",
    "\t\"shape_id\" INT NOT NULL,\n",
    "\t\"shape_name\" TEXT NOT NULL\n",
    "    );\n",
    "\"\"\",\n",
    "\"\"\"CREATE TABLE keyboard(\n",
    "\t\"id\" INT NOT NULL,\n",
    "\t\"keynum\" INT NOT NULL,\n",
    "\t\"is_synth\" boolean NOT NULL\n",
    "    );\n",
    "\"\"\",\n",
    "\"\"\"CREATE TABLE drum(\n",
    "\t\"id\" INT NOT NULL,\n",
    "\t\"diameter\" INT NOT NULL\n",
    "    );\n",
    "\"\"\",\n",
    "\"\"\"CREATE TABLE employees(\n",
    "\t\"employee_id\" INT NOT NULL,\n",
    "\t\"employee_name\" TEXT NOT NULL\n",
    "    );\n",
    "\"\"\",\n",
    "\"\"\"CREATE TABLE order_history(\n",
    "\t\"order_id\" INT NOT NULL,\n",
    "\t\"date\" DATE NOT NULL,\n",
    "\t\"location_id\" INT NOT NULL,\n",
    "\t\"cashier_id\" INT NOT NULL\n",
    "    );\n",
    "\"\"\",\n",
    "\"\"\"CREATE TABLE manufacturer(\n",
    "\t\"manufacturer_id\" INT NOT NULL,\n",
    "\t\"manufacturer_name\" VARCHAR(255) NOT NULL\n",
    "    );\n",
    "\"\"\",\n",
    "\"\"\"CREATE TABLE orders_instruments(\n",
    "\t\"order_id\" BIGINT NOT NULL,\n",
    "\t\"instrument_id\" INT NOT NULL\n",
    "    );\n",
    "\"\"\"]\n",
    "execute_queries(db, creating_tables)"
   ]
  },
  {
   "cell_type": "code",
   "execution_count": 5,
   "id": "200f0363",
   "metadata": {},
   "outputs": [],
   "source": [
    "filling_static_tables = [\n",
    "    \"\"\" INSERT INTO public.location (location_id, address)\n",
    "    VALUES\n",
    "        (1, 'Moscow'),\n",
    "        (2, 'St. Petersburg'),\n",
    "        (3, 'Kazan')\n",
    "        \"\"\",\n",
    "    \"\"\"INSERT INTO public.status (status_id, status_name)\n",
    "    VALUES\n",
    "        (1, 'in stock'),\n",
    "        (2, 'in shop'),\n",
    "        (3, 'booked')\n",
    "        \"\"\",\n",
    "    \"\"\"INSERT INTO public.material (material_id, material_name)\n",
    "        VALUES\n",
    "            (1, 'plastic'),\n",
    "            (2, 'wood'),\n",
    "            (3, 'carbon'),\n",
    "            (4, 'metal')\n",
    "            \"\"\",\n",
    "    \"\"\"INSERT INTO public.manufacturer (manufacturer_id, manufacturer_name)\n",
    "        VALUES\n",
    "            (1, 'Gibson'),\n",
    "            (2, 'Yamaha'),\n",
    "            (3, 'Fender'),\n",
    "            (4, 'Remo')\n",
    "            \"\"\",\n",
    "    \"\"\"INSERT INTO public.shape (shape_id, shape_name)\n",
    "        VALUES\n",
    "            (1, 'Telecaster'),\n",
    "            (2, 'Stratocaster'),\n",
    "            (3, 'Explorer'),\n",
    "            (4, 'Flying V')\n",
    "            \"\"\",\n",
    "    \"\"\"INSERT INTO public.employees (employee_id, employee_name)\n",
    "        VALUES\n",
    "            (1, 'Mark'),\n",
    "            (2, 'Egor'),\n",
    "            (3, 'Irina')\n",
    "            \"\"\"]\n",
    "execute_queries(db, filling_static_tables)"
   ]
  },
  {
   "cell_type": "code",
   "execution_count": 6,
   "id": "9044a9ac",
   "metadata": {},
   "outputs": [],
   "source": [
    "filling_dynamic_tables = [\n",
    "    \"\"\"INSERT INTO public.instrument (instr_type, manufacturer, material, location, status, price)\n",
    "        VALUES\n",
    "            (1, 1, 2, 1, 1, 10000),\n",
    "            (1, 2, 2, 2, 1, 15000),\n",
    "            (1, 2, 2, 2, 2, 15500),\n",
    "            (1, 2, 2, 3, 1, 23000),\n",
    "            (1, 1, 2, 1, 1, 50000),\n",
    "            (2, 3, 1, 1, 1, 6000),\n",
    "            (2, 3, 2, 2, 2, 80000),\n",
    "            (2, 3, 1, 1, 1, 11000),\n",
    "            (2, 2, 1, 3, 2, 12990),\n",
    "            (3, 4, 2, 3, 2, 8000),\n",
    "            (3, 4, 3, 1, 2, 4000),\n",
    "            (3, 4, 3, 1, 2, 4500)\n",
    "    \"\"\",\n",
    "    \"\"\"INSERT INTO guitar (id, string_num, fret_num, floyd_rose, shape)\n",
    "        VALUES\n",
    "            (1, 6, 21, false, 1),\n",
    "            (2, 6, 21, false, 2),\n",
    "            (3, 6, 22, true, 1),\n",
    "            (4, 6, 21, true, 3),\n",
    "            (5, 7, 22, false, 2)\n",
    "    \"\"\",\n",
    "    \"\"\"INSERT INTO keyboard (id, keynum, is_synth)\n",
    "        VALUES\n",
    "            (6, 52, true),\n",
    "            (7, 108, false),\n",
    "            (8, 64, true),\n",
    "            (9, 64, false)\n",
    "    \"\"\",\n",
    "    \"\"\"INSERT INTO drum (id, diameter)\n",
    "            VALUES\n",
    "                (10, 32),\n",
    "                (11, 30),\n",
    "                (12, 30)\n",
    "        \"\"\",\n",
    "    \"\"\"INSERT INTO order_history (order_id, date, location_id, cashier_id)\n",
    "            VALUES\n",
    "                (1, '2022-12-01', 1, 1),\n",
    "                (2, '2022-12-02', 1, 2),\n",
    "                (3, '2022-12-02', 2, 3),\n",
    "                (4, '2022-12-08', 1, 2)\n",
    "        \"\"\",\n",
    "    \"\"\"INSERT INTO orders_instruments (order_id, instrument_id)\n",
    "            VALUES\n",
    "                (1, 2),\n",
    "                (1, 4),\n",
    "                (2, 5),\n",
    "                (3, 11),\n",
    "                (3, 12),\n",
    "                (4, 8),\n",
    "                (4, 9)\n",
    "        \"\"\"]\n",
    "execute_queries(db, filling_dynamic_tables)"
   ]
  },
  {
   "cell_type": "markdown",
   "id": "ab6a3940",
   "metadata": {},
   "source": [
    "Шаблон кода запроса:\n",
    "\n",
    "request_X = \"\"\" \"\"\"\n",
    "result = execute_query(db, request_X, fetch_result=True)\n",
    "for row, value in enumerate(result):\n",
    "    print(row, value)"
   ]
  },
  {
   "cell_type": "code",
   "execution_count": 7,
   "id": "eb1212ef",
   "metadata": {},
   "outputs": [
    {
     "name": "stdout",
     "output_type": "stream",
     "text": [
      "0 Record(id=4, floyd_rose=True, string_num=6)\n"
     ]
    }
   ],
   "source": [
    "request_1 = \"\"\"SELECT id, floyd_rose, string_num \n",
    "FROM guitar JOIN shape ON guitar.shape = shape.shape_id\n",
    "WHERE shape_name = 'Explorer'\"\"\"\n",
    "result = execute_query(db, request_1, fetch_result=True)\n",
    "for row, value in enumerate(result):\n",
    "    print(row, value)"
   ]
  },
  {
   "cell_type": "code",
   "execution_count": 8,
   "id": "2cefce40",
   "metadata": {},
   "outputs": [
    {
     "name": "stdout",
     "output_type": "stream",
     "text": [
      "0 Record(manufacturer_name='Remo', price=4500)\n"
     ]
    }
   ],
   "source": [
    "request_2 = \"\"\"SELECT manufacturer_name, price\n",
    "FROM instrument i JOIN drum ON i.id = drum.id JOIN manufacturer ON i.manufacturer = manufacturer_id\n",
    "WHERE price > 4000 AND price < 5000\"\"\"\n",
    "result = execute_query(db, request_2, fetch_result=True)\n",
    "for row, value in enumerate(result):\n",
    "    print(row, value)"
   ]
  },
  {
   "cell_type": "code",
   "execution_count": 9,
   "id": "b00fdb93",
   "metadata": {},
   "outputs": [
    {
     "name": "stdout",
     "output_type": "stream",
     "text": [
      "0 Record(address='Moscow')\n",
      "1 Record(address='Kazan')\n"
     ]
    }
   ],
   "source": [
    "request_3 = \"\"\"SELECT address FROM location\n",
    "WHERE address NOT LIKE '% %'\"\"\"\n",
    "result = execute_query(db, request_3, fetch_result=True)\n",
    "for row, value in enumerate(result):\n",
    "    print(row, value)"
   ]
  },
  {
   "cell_type": "code",
   "execution_count": 10,
   "id": "f931d7fb",
   "metadata": {},
   "outputs": [
    {
     "name": "stdout",
     "output_type": "stream",
     "text": [
      "0 Record(f_column_=1)\n"
     ]
    }
   ],
   "source": [
    "request_4 = \"\"\"SELECT (\n",
    "(SELECT count (*) FROM keyboard WHERE is_synth = True)\n",
    "/\n",
    "(SELECT count (is_synth) FROM keyboard WHERE is_synth = False))\"\"\"\n",
    "result = execute_query(db, request_4, fetch_result=True)\n",
    "for row, value in enumerate(result):\n",
    "    print(row, value)"
   ]
  },
  {
   "cell_type": "code",
   "execution_count": 11,
   "id": "91d78fcd",
   "metadata": {},
   "outputs": [
    {
     "name": "stdout",
     "output_type": "stream",
     "text": [
      "0 Record(order_id=3, sum=8500)\n",
      "1 Record(order_id=2, sum=80000)\n",
      "2 Record(order_id=4, sum=23990)\n"
     ]
    }
   ],
   "source": [
    "request_5 = \"\"\"SELECT order_history.order_id, sum(price)\n",
    "FROM order_history\n",
    "INNER JOIN orders_instruments ON order_history.order_id = orders_instruments.order_id\n",
    "INNER JOIN instrument ON orders_instruments.instrument_id = instrument.id\n",
    "WHERE date > '2022-12-01'\n",
    "GROUP BY order_history.order_id, instr_type\"\"\" \n",
    "# запрос на даты; выводит ID заказов, поступивших после 1 декабря, и суммы цен инструментов в этом заказе\n",
    "result = execute_query(db, request_5, fetch_result=True)\n",
    "for row, value in enumerate(result):\n",
    "    print(row, value)"
   ]
  },
  {
   "cell_type": "code",
   "execution_count": 12,
   "id": "258899aa",
   "metadata": {},
   "outputs": [
    {
     "name": "stdout",
     "output_type": "stream",
     "text": [
      "0 Record(count=5, instr_type=1)\n"
     ]
    }
   ],
   "source": [
    "request_6 = \"\"\"select count(*), instr_type FROM instrument where instr_type = 1\n",
    "group by instr_type\n",
    "union\n",
    "select count (*), instr_type FROM instrument where instr_type = 2\n",
    "group by instr_type\n",
    "union\n",
    "select count (*), instr_type FROM instrument where instr_type = 3\n",
    "group by instr_type\n",
    "order by count DESC\n",
    "LIMIT 1\"\"\" \n",
    "# выводит количество инструментов самого многочисленного типа и его ID \n",
    "# (1-гитары, 2-клавишные, 3-барабаны)\n",
    "result = execute_query(db, request_6, fetch_result=True)\n",
    "for row, value in enumerate(result):\n",
    "    print(row, value)"
   ]
  },
  {
   "cell_type": "code",
   "execution_count": 27,
   "id": "37b26c0a",
   "metadata": {},
   "outputs": [
    {
     "name": "stdout",
     "output_type": "stream",
     "text": [
      "0 Record(shape_name='Stratocaster', count=1)\n",
      "1 Record(shape_name='Explorer', count=1)\n"
     ]
    }
   ],
   "source": [
    "request_7 = \"\"\"SELECT shape.shape_name, count(shape.shape_name)\n",
    "FROM order_history \n",
    "JOIN orders_instruments ON order_history.order_id = orders_instruments.order_id\n",
    "JOIN instrument ON orders_instruments.instrument_id = instrument.id\n",
    "JOIN guitar ON guitar.id = instrument.id\n",
    "JOIN shape ON shape.shape_id = guitar.shape\n",
    "WHERE date >= '2022-12-01'\n",
    "GROUP BY shape_name\"\"\"\n",
    "# сколько гитар какой формы купили, начиная с 1 декабря\n",
    "# ответ: 1 стратокастер, 1 эксплорер\n",
    "result = execute_query(db, request_7, fetch_result=True)\n",
    "for row, value in enumerate(result):\n",
    "    print(row, value)"
   ]
  },
  {
   "cell_type": "code",
   "execution_count": 41,
   "id": "1c65bffb",
   "metadata": {},
   "outputs": [
    {
     "name": "stdout",
     "output_type": "stream",
     "text": [
      "0 Record(employee_name='Egor', sum=80000)\n",
      "1 Record(employee_name='Mark', sum=23000)\n",
      "2 Record(employee_name='Mark', sum=15000)\n"
     ]
    }
   ],
   "source": [
    "# топ 3 кассира по сумме проданных товаров --- НЕ ЗАКОНЧЕНО\n",
    "request_8 = \"\"\"SELECT employee_name, sum(price)\n",
    "FROM employees \n",
    "JOIN order_history ON employee_id = cashier_id\n",
    "JOIN orders_instruments ON order_history.order_id = orders_instruments.order_id\n",
    "JOIN instrument ON orders_instruments.instrument_id = instrument.id\n",
    "GROUP BY employee_name, price\n",
    "ORDER BY price DESC LIMIT 3\n",
    "\"\"\"\n",
    "result = execute_query(db, request_8, fetch_result=True)\n",
    "for row, value in enumerate(result):\n",
    "    print(row, value)"
   ]
  },
  {
   "cell_type": "code",
   "execution_count": null,
   "id": "3586e65e",
   "metadata": {},
   "outputs": [],
   "source": []
  }
 ],
 "metadata": {
  "kernelspec": {
   "display_name": "Python 3",
   "language": "python",
   "name": "python3"
  },
  "language_info": {
   "codemirror_mode": {
    "name": "ipython",
    "version": 3
   },
   "file_extension": ".py",
   "mimetype": "text/x-python",
   "name": "python",
   "nbconvert_exporter": "python",
   "pygments_lexer": "ipython3",
   "version": "3.8.8"
  }
 },
 "nbformat": 4,
 "nbformat_minor": 5
}
